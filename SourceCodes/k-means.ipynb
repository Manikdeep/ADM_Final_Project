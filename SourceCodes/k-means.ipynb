{
 "cells": [
  {
   "cell_type": "code",
   "execution_count": 20,
   "metadata": {},
   "outputs": [],
   "source": [
    "import numpy as np \n",
    "import pandas as pd \n",
    "import matplotlib.pyplot as plt\n",
    "import seaborn as sns\n",
    "from sklearn.feature_extraction import text\n",
    "from sklearn.feature_extraction.text import TfidfVectorizer\n",
    "from sklearn.cluster import KMeans\n",
    "from nltk.tokenize import RegexpTokenizer\n",
    "from nltk.stem.snowball import SnowballStemmer\n",
    "from sklearn import metrics\n",
    "%matplotlib inline"
   ]
  },
  {
   "cell_type": "code",
   "execution_count": 2,
   "metadata": {},
   "outputs": [
    {
     "data": {
      "text/html": [
       "<div>\n",
       "<style scoped>\n",
       "    .dataframe tbody tr th:only-of-type {\n",
       "        vertical-align: middle;\n",
       "    }\n",
       "\n",
       "    .dataframe tbody tr th {\n",
       "        vertical-align: top;\n",
       "    }\n",
       "\n",
       "    .dataframe thead th {\n",
       "        text-align: right;\n",
       "    }\n",
       "</style>\n",
       "<table border=\"1\" class=\"dataframe\">\n",
       "  <thead>\n",
       "    <tr style=\"text-align: right;\">\n",
       "      <th></th>\n",
       "      <th>0</th>\n",
       "    </tr>\n",
       "  </thead>\n",
       "  <tbody>\n",
       "    <tr>\n",
       "      <th>0</th>\n",
       "      <td>LOADING ALL APPLE PAY USERS RN LIVE PROOF HIT ...</td>\n",
       "    </tr>\n",
       "    <tr>\n",
       "      <th>1</th>\n",
       "      <td>Legit drop on unverified cashapps too</td>\n",
       "    </tr>\n",
       "    <tr>\n",
       "      <th>2</th>\n",
       "      <td>Hmu HMU   if ya need PayPal logs GET YOUR MONE...</td>\n",
       "    </tr>\n",
       "    <tr>\n",
       "      <th>3</th>\n",
       "      <td>Never be a loser keep fighting till you become...</td>\n",
       "    </tr>\n",
       "    <tr>\n",
       "      <th>4</th>\n",
       "      <td>Yall gotta know that there is know one that w...</td>\n",
       "    </tr>\n",
       "  </tbody>\n",
       "</table>\n",
       "</div>"
      ],
      "text/plain": [
       "                                                   0\n",
       "0  LOADING ALL APPLE PAY USERS RN LIVE PROOF HIT ...\n",
       "1              Legit drop on unverified cashapps too\n",
       "2  Hmu HMU   if ya need PayPal logs GET YOUR MONE...\n",
       "3  Never be a loser keep fighting till you become...\n",
       "4   Yall gotta know that there is know one that w..."
      ]
     },
     "execution_count": 2,
     "metadata": {},
     "output_type": "execute_result"
    }
   ],
   "source": [
    "telegramData = pd.read_csv(\"cleanedTelegram.txt\", header=None)\n",
    "telegramData.head()"
   ]
  },
  {
   "cell_type": "code",
   "execution_count": 3,
   "metadata": {},
   "outputs": [
    {
     "name": "stdout",
     "output_type": "stream",
     "text": [
      "<class 'pandas.core.frame.DataFrame'>\n",
      "RangeIndex: 9888385 entries, 0 to 9888384\n",
      "Data columns (total 1 columns):\n",
      " #   Column  Dtype \n",
      "---  ------  ----- \n",
      " 0   0       object\n",
      "dtypes: object(1)\n",
      "memory usage: 75.4+ MB\n"
     ]
    }
   ],
   "source": [
    "telegramData.info()"
   ]
  },
  {
   "cell_type": "code",
   "execution_count": 4,
   "metadata": {},
   "outputs": [
    {
     "data": {
      "text/html": [
       "<div>\n",
       "<style scoped>\n",
       "    .dataframe tbody tr th:only-of-type {\n",
       "        vertical-align: middle;\n",
       "    }\n",
       "\n",
       "    .dataframe tbody tr th {\n",
       "        vertical-align: top;\n",
       "    }\n",
       "\n",
       "    .dataframe thead th {\n",
       "        text-align: right;\n",
       "    }\n",
       "</style>\n",
       "<table border=\"1\" class=\"dataframe\">\n",
       "  <thead>\n",
       "    <tr style=\"text-align: right;\">\n",
       "      <th></th>\n",
       "      <th>0</th>\n",
       "    </tr>\n",
       "  </thead>\n",
       "  <tbody>\n",
       "    <tr>\n",
       "      <th>0</th>\n",
       "      <td>Should patients Twiiter their surgery Should h...</td>\n",
       "    </tr>\n",
       "    <tr>\n",
       "      <th>1</th>\n",
       "      <td>httpselectnytimescomgstabstracthtmlresF00A11F...</td>\n",
       "    </tr>\n",
       "    <tr>\n",
       "      <th>2</th>\n",
       "      <td>httpselectnytimescomgstabstracthtmlresF60F13F...</td>\n",
       "    </tr>\n",
       "    <tr>\n",
       "      <th>3</th>\n",
       "      <td>httppqasbpqarchivercomchicagotribuneaccess508...</td>\n",
       "    </tr>\n",
       "    <tr>\n",
       "      <th>4</th>\n",
       "      <td>httpselectnytimescomgstabstracthtmlresFB0E11F...</td>\n",
       "    </tr>\n",
       "  </tbody>\n",
       "</table>\n",
       "</div>"
      ],
      "text/plain": [
       "                                                   0\n",
       "0  Should patients Twiiter their surgery Should h...\n",
       "1   httpselectnytimescomgstabstracthtmlresF00A11F...\n",
       "2   httpselectnytimescomgstabstracthtmlresF60F13F...\n",
       "3   httppqasbpqarchivercomchicagotribuneaccess508...\n",
       "4   httpselectnytimescomgstabstracthtmlresFB0E11F..."
      ]
     },
     "execution_count": 4,
     "metadata": {},
     "output_type": "execute_result"
    }
   ],
   "source": [
    "redditData = pd.read_csv(\"cleanedReddit.txt\", header=None)\n",
    "redditData.head()"
   ]
  },
  {
   "cell_type": "code",
   "execution_count": 5,
   "metadata": {},
   "outputs": [
    {
     "name": "stdout",
     "output_type": "stream",
     "text": [
      "<class 'pandas.core.frame.DataFrame'>\n",
      "RangeIndex: 797121 entries, 0 to 797120\n",
      "Data columns (total 1 columns):\n",
      " #   Column  Non-Null Count   Dtype \n",
      "---  ------  --------------   ----- \n",
      " 0   0       797121 non-null  object\n",
      "dtypes: object(1)\n",
      "memory usage: 6.1+ MB\n"
     ]
    }
   ],
   "source": [
    "redditData.info()"
   ]
  },
  {
   "cell_type": "code",
   "execution_count": 6,
   "metadata": {},
   "outputs": [
    {
     "data": {
      "text/html": [
       "<div>\n",
       "<style scoped>\n",
       "    .dataframe tbody tr th:only-of-type {\n",
       "        vertical-align: middle;\n",
       "    }\n",
       "\n",
       "    .dataframe tbody tr th {\n",
       "        vertical-align: top;\n",
       "    }\n",
       "\n",
       "    .dataframe thead th {\n",
       "        text-align: right;\n",
       "    }\n",
       "</style>\n",
       "<table border=\"1\" class=\"dataframe\">\n",
       "  <thead>\n",
       "    <tr style=\"text-align: right;\">\n",
       "      <th></th>\n",
       "      <th>0</th>\n",
       "    </tr>\n",
       "  </thead>\n",
       "  <tbody>\n",
       "    <tr>\n",
       "      <th>0</th>\n",
       "      <td>LOADING ALL APPLE PAY USERS RN LIVE PROOF HIT ...</td>\n",
       "    </tr>\n",
       "    <tr>\n",
       "      <th>1</th>\n",
       "      <td>Legit drop on unverified cashapps too</td>\n",
       "    </tr>\n",
       "    <tr>\n",
       "      <th>2</th>\n",
       "      <td>Hmu HMU   if ya need PayPal logs GET YOUR MONE...</td>\n",
       "    </tr>\n",
       "    <tr>\n",
       "      <th>3</th>\n",
       "      <td>Never be a loser keep fighting till you become...</td>\n",
       "    </tr>\n",
       "    <tr>\n",
       "      <th>4</th>\n",
       "      <td>Yall gotta know that there is know one that w...</td>\n",
       "    </tr>\n",
       "  </tbody>\n",
       "</table>\n",
       "</div>"
      ],
      "text/plain": [
       "                                                   0\n",
       "0  LOADING ALL APPLE PAY USERS RN LIVE PROOF HIT ...\n",
       "1              Legit drop on unverified cashapps too\n",
       "2  Hmu HMU   if ya need PayPal logs GET YOUR MONE...\n",
       "3  Never be a loser keep fighting till you become...\n",
       "4   Yall gotta know that there is know one that w..."
      ]
     },
     "execution_count": 6,
     "metadata": {},
     "output_type": "execute_result"
    }
   ],
   "source": [
    "#merge both dataframes\n",
    "all_data = pd.concat([telegramData, redditData], ignore_index=True)\n",
    "all_data.head()"
   ]
  },
  {
   "cell_type": "code",
   "execution_count": 7,
   "metadata": {},
   "outputs": [
    {
     "data": {
      "text/html": [
       "<div>\n",
       "<style scoped>\n",
       "    .dataframe tbody tr th:only-of-type {\n",
       "        vertical-align: middle;\n",
       "    }\n",
       "\n",
       "    .dataframe tbody tr th {\n",
       "        vertical-align: top;\n",
       "    }\n",
       "\n",
       "    .dataframe thead th {\n",
       "        text-align: right;\n",
       "    }\n",
       "</style>\n",
       "<table border=\"1\" class=\"dataframe\">\n",
       "  <thead>\n",
       "    <tr style=\"text-align: right;\">\n",
       "      <th></th>\n",
       "      <th>0</th>\n",
       "    </tr>\n",
       "  </thead>\n",
       "  <tbody>\n",
       "    <tr>\n",
       "      <th>0</th>\n",
       "      <td>LOADING ALL APPLE PAY USERS RN LIVE PROOF HIT ...</td>\n",
       "    </tr>\n",
       "    <tr>\n",
       "      <th>1</th>\n",
       "      <td>Legit drop on unverified cashapps too</td>\n",
       "    </tr>\n",
       "    <tr>\n",
       "      <th>2</th>\n",
       "      <td>Hmu HMU   if ya need PayPal logs GET YOUR MONE...</td>\n",
       "    </tr>\n",
       "    <tr>\n",
       "      <th>3</th>\n",
       "      <td>Never be a loser keep fighting till you become...</td>\n",
       "    </tr>\n",
       "    <tr>\n",
       "      <th>4</th>\n",
       "      <td>Yall gotta know that there is know one that w...</td>\n",
       "    </tr>\n",
       "  </tbody>\n",
       "</table>\n",
       "</div>"
      ],
      "text/plain": [
       "                                                   0\n",
       "0  LOADING ALL APPLE PAY USERS RN LIVE PROOF HIT ...\n",
       "1              Legit drop on unverified cashapps too\n",
       "2  Hmu HMU   if ya need PayPal logs GET YOUR MONE...\n",
       "3  Never be a loser keep fighting till you become...\n",
       "4   Yall gotta know that there is know one that w..."
      ]
     },
     "execution_count": 7,
     "metadata": {},
     "output_type": "execute_result"
    }
   ],
   "source": [
    "#remove numerical values\n",
    "all_data[0] = all_data[0].str.replace('\\d+', '')\n",
    "all_data.head()"
   ]
  },
  {
   "cell_type": "code",
   "execution_count": 8,
   "metadata": {},
   "outputs": [
    {
     "name": "stdout",
     "output_type": "stream",
     "text": [
      "(10685506, 251911)\n"
     ]
    }
   ],
   "source": [
    "#td-idf vectorize\n",
    "data = all_data[0].values\n",
    "vectorizer = TfidfVectorizer(strip_accents='unicode', stop_words='english', min_df=2) # Corpus is in English\n",
    "X = vectorizer.fit_transform(data)\n",
    "print(X.shape)"
   ]
  },
  {
   "cell_type": "code",
   "execution_count": 9,
   "metadata": {},
   "outputs": [
    {
     "name": "stdout",
     "output_type": "stream",
     "text": [
      "251911\n",
      "['airframe' 'airgt' 'airgti' 'airguitaring' 'airgun' 'airhead' 'airheads'\n",
      " 'airhes' 'airhorn' 'airhorns' 'airhow' 'airhttpwwwadobecomproductsair'\n",
      " 'airi' 'airif' 'airim' 'airing' 'airit' 'airits' 'airjust' 'airless'\n",
      " 'airlift' 'airlifted' 'airlifts' 'airline' 'airliner' 'airliners'\n",
      " 'airlines' 'airlock' 'airman' 'airmans' 'airmen' 'airmiles' 'airmy'\n",
      " 'airnah' 'airno' 'airor' 'airplane' 'airplanes' 'airplanesthe'\n",
      " 'airplanetheres' 'airplay' 'airpod' 'airpodiphone' 'airpods' 'airport'\n",
      " 'airportairplane' 'airportgt'\n",
      " 'airporthttpenwikipediaorgwikiyasserarafatinternationalairport'\n",
      " 'airporti' 'airports' 'airportthe' 'airportwow' 'airpower' 'airpowered'\n",
      " 'airpro' 'airquality' 'airquotes' 'airraiding' 'airs' 'airship'\n",
      " 'airships' 'airshit' 'airshow' 'airso' 'airsoft' 'airsofts' 'airspace'\n",
      " 'airspeed' 'airstream' 'airstrike' 'airstrikes' 'airstrip' 'airthats'\n",
      " 'airthe' 'airthis' 'airtight' 'airtime' 'airto' 'airtoair' 'airtoground'\n",
      " 'airtraffic' 'airtran' 'airtrans' 'airwalks' 'airwater' 'airwave'\n",
      " 'airwaves' 'airway' 'airways' 'airwe' 'airwell' 'airwhat' 'airwhen'\n",
      " 'airwhere' 'airwolf' 'airy' 'airyou' 'airyour' 'ais' 'aisha']\n"
     ]
    }
   ],
   "source": [
    "word_features = vectorizer.get_feature_names_out()\n",
    "print(len(word_features))\n",
    "print(word_features[5000:5100])"
   ]
  },
  {
   "cell_type": "code",
   "execution_count": 11,
   "metadata": {},
   "outputs": [
    {
     "data": {
      "image/png": "[encoded data removed]",
      "text/plain": [
       "<Figure size 432x288 with 1 Axes>"
      ]
     },
     "metadata": {
      "needs_background": "light"
     },
     "output_type": "display_data"
    }
   ],
   "source": [
    "#elbow method\n",
    "score = []\n",
    "for i in range(2,11):\n",
    "    kmeans = KMeans(n_clusters=i, init='k-means++', max_iter=300, n_init=10, random_state=0)\n",
    "    kmeans.fit(X)\n",
    "    score.append(kmeans.inertia_)\n",
    "    \n",
    "plt.plot(range(2,11), score)\n",
    "plt.title('The Elbow Method')\n",
    "plt.xlabel('Number of clusters')\n",
    "plt.ylabel('Score')\n",
    "plt.savefig('elbow.png')\n",
    "plt.show()"
   ]
  },
  {
   "cell_type": "code",
   "execution_count": 14,
   "metadata": {},
   "outputs": [
    {
     "name": "stdout",
     "output_type": "stream",
     "text": [
      "['abetted' 'abetting' 'abettor' 'abettors' 'abeyance' 'abg' 'abgesehen'\n",
      " 'abh' 'abhi' 'abhor' 'abhore' 'abhored' 'abhorred' 'abhorrence'\n",
      " 'abhorrent' 'abhorring' 'abhors' 'abhorsen' 'abhrams' 'abi' 'abidal'\n",
      " 'abide' 'abided' 'abides' 'abideth' 'abiding' 'abigail' 'abiilty'\n",
      " 'abilene' 'abilify' 'abilita' 'abilitato' 'abilities' 'abilitiesactually'\n",
      " 'abilitiesi' 'abilitiesim' 'ability' 'abilityi' 'abilitythe'\n",
      " 'abilitywell' 'abilityyou' 'abillity' 'abilmente' 'abilty' 'abinadi'\n",
      " 'abingdon' 'abinitio' 'abiogenesis'\n",
      " 'abiogenesishttpenwikipediaorgwikiabiogenesis' 'abiogenic']\n"
     ]
    }
   ],
   "source": [
    "print(word_features[250:300])"
   ]
  },
  {
   "cell_type": "code",
   "execution_count": 28,
   "metadata": {},
   "outputs": [
    {
     "name": "stdout",
     "output_type": "stream",
     "text": [
      "0 : method, methods, transfer, cards, new, bank, paypal, sauce, fullz, pros, credit, dl, website, buy, ssn, pm, free, dm, account, dont, available, directly, cashout, card, admin\n",
      "1 : balance, high, dumps, ccs, low, logslow, httpshit, proofs, available, paypal, btc, maximum, fresh, fullz, clones, price, cc, card, goes, rates, account, cards, logs, cloned, bank\n",
      "2 : logs, bank, paypal, suntrust, chase, cashapp, citi, huntington, woodforest, cheap, chime, nfcu, buy, pnc, bbva, prices, welsfargo, legit, shopwithscrip, wellsfargo, affordable, available, uk, canada, boa\n"
     ]
    }
   ],
   "source": [
    "kmeans = KMeans(n_clusters = 3, n_init = 20)\n",
    "kmeans.fit(X)\n",
    "label = kmeans.fit_predict(X)\n",
    "# print(label)\n",
    "\n",
    "common_words = kmeans.cluster_centers_.argsort()[:,-1:-26:-1]\n",
    "\n",
    "for num, centroid in enumerate(common_words):\n",
    "    print(str(num) + ' : ' + ', '.join(word_features[word] for word in centroid))"
   ]
  },
  {
   "cell_type": "code",
   "execution_count": 29,
   "metadata": {},
   "outputs": [
    {
     "name": "stdout",
     "output_type": "stream",
     "text": [
      "Homogeneity: 1.000\n",
      "Completeness: 1.000\n",
      "V-measure: 1.000\n",
      "Adjusted Rand-Index: 1.000\n",
      "Silhouette Coefficient: 0.049\n"
     ]
    }
   ],
   "source": [
    "print(\"Homogeneity: %0.3f\" % metrics.homogeneity_score(label, kmeans.labels_))\n",
    "print(\"Completeness: %0.3f\" % metrics.completeness_score(label, kmeans.labels_))\n",
    "print(\"V-measure: %0.3f\" % metrics.v_measure_score(label, kmeans.labels_))\n",
    "print(\"Adjusted Rand-Index: %.3f\" % metrics.adjusted_rand_score(label, kmeans.labels_))\n",
    "print(\"Silhouette Coefficient: %0.3f\" % metrics.silhouette_score(X, kmeans.labels_, sample_size=1000))"
   ]
  },
  {
   "cell_type": "code",
   "execution_count": null,
   "metadata": {},
   "outputs": [],
   "source": []
  }
 ],
 "metadata": {
  "kernelspec": {
   "display_name": "Python 3",
   "language": "python",
   "name": "python3"
  },
  "language_info": {
   "codemirror_mode": {
    "name": "ipython",
    "version": 3
   },
   "file_extension": ".py",
   "mimetype": "text/x-python",
   "name": "python",
   "nbconvert_exporter": "python",
   "pygments_lexer": "ipython3",
   "version": "3.8.3"
  }
 },
 "nbformat": 4,
 "nbformat_minor": 4
}
